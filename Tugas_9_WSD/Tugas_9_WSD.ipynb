{
  "nbformat": 4,
  "nbformat_minor": 0,
  "metadata": {
    "colab": {
      "name": "Tugas_9_WSD.ipynb",
      "provenance": []
    },
    "kernelspec": {
      "name": "python3",
      "display_name": "Python 3"
    }
  },
  "cells": [
    {
      "cell_type": "code",
      "metadata": {
        "colab": {
          "base_uri": "https://localhost:8080/"
        },
        "id": "HQfYVo43ro0a",
        "outputId": "ea678d97-1e50-4e7d-ce70-6ce75d9b61de"
      },
      "source": [
        "pip install kbbi"
      ],
      "execution_count": 1,
      "outputs": [
        {
          "output_type": "stream",
          "text": [
            "Collecting kbbi\n",
            "  Downloading https://files.pythonhosted.org/packages/d8/fd/6fcb45cb373cd780d1b2208fd9fd247917472a440069460386a6e97b0d03/kbbi-0.4.2-py3-none-any.whl\n",
            "Collecting appdirs\n",
            "  Downloading https://files.pythonhosted.org/packages/3b/00/2344469e2084fb287c2e0b57b72910309874c3245463acd6cf5e3db69324/appdirs-1.4.4-py2.py3-none-any.whl\n",
            "Requirement already satisfied: requests in /usr/local/lib/python3.6/dist-packages (from kbbi) (2.23.0)\n",
            "Requirement already satisfied: beautifulsoup4 in /usr/local/lib/python3.6/dist-packages (from kbbi) (4.6.3)\n",
            "Requirement already satisfied: certifi>=2017.4.17 in /usr/local/lib/python3.6/dist-packages (from requests->kbbi) (2020.6.20)\n",
            "Requirement already satisfied: idna<3,>=2.5 in /usr/local/lib/python3.6/dist-packages (from requests->kbbi) (2.10)\n",
            "Requirement already satisfied: chardet<4,>=3.0.2 in /usr/local/lib/python3.6/dist-packages (from requests->kbbi) (3.0.4)\n",
            "Requirement already satisfied: urllib3!=1.25.0,!=1.25.1,<1.26,>=1.21.1 in /usr/local/lib/python3.6/dist-packages (from requests->kbbi) (1.24.3)\n",
            "Installing collected packages: appdirs, kbbi\n",
            "Successfully installed appdirs-1.4.4 kbbi-0.4.2\n"
          ],
          "name": "stdout"
        }
      ]
    },
    {
      "cell_type": "code",
      "metadata": {
        "colab": {
          "base_uri": "https://localhost:8080/"
        },
        "id": "se6xgZw9rrR4",
        "outputId": "0524f592-40f0-4714-82b4-b26a3c10d9a1"
      },
      "source": [
        "pip install Sastrawi"
      ],
      "execution_count": 2,
      "outputs": [
        {
          "output_type": "stream",
          "text": [
            "Collecting Sastrawi\n",
            "\u001b[?25l  Downloading https://files.pythonhosted.org/packages/6f/4b/bab676953da3103003730b8fcdfadbdd20f333d4add10af949dd5c51e6ed/Sastrawi-1.0.1-py2.py3-none-any.whl (209kB)\n",
            "\r\u001b[K     |█▋                              | 10kB 15.4MB/s eta 0:00:01\r\u001b[K     |███▏                            | 20kB 20.6MB/s eta 0:00:01\r\u001b[K     |████▊                           | 30kB 11.0MB/s eta 0:00:01\r\u001b[K     |██████▎                         | 40kB 7.8MB/s eta 0:00:01\r\u001b[K     |███████▉                        | 51kB 4.4MB/s eta 0:00:01\r\u001b[K     |█████████▍                      | 61kB 4.9MB/s eta 0:00:01\r\u001b[K     |███████████                     | 71kB 5.1MB/s eta 0:00:01\r\u001b[K     |████████████▌                   | 81kB 5.6MB/s eta 0:00:01\r\u001b[K     |██████████████                  | 92kB 5.6MB/s eta 0:00:01\r\u001b[K     |███████████████▋                | 102kB 5.8MB/s eta 0:00:01\r\u001b[K     |█████████████████▏              | 112kB 5.8MB/s eta 0:00:01\r\u001b[K     |██████████████████▊             | 122kB 5.8MB/s eta 0:00:01\r\u001b[K     |████████████████████▎           | 133kB 5.8MB/s eta 0:00:01\r\u001b[K     |█████████████████████▉          | 143kB 5.8MB/s eta 0:00:01\r\u001b[K     |███████████████████████▍        | 153kB 5.8MB/s eta 0:00:01\r\u001b[K     |█████████████████████████       | 163kB 5.8MB/s eta 0:00:01\r\u001b[K     |██████████████████████████▋     | 174kB 5.8MB/s eta 0:00:01\r\u001b[K     |████████████████████████████▏   | 184kB 5.8MB/s eta 0:00:01\r\u001b[K     |█████████████████████████████▊  | 194kB 5.8MB/s eta 0:00:01\r\u001b[K     |███████████████████████████████▎| 204kB 5.8MB/s eta 0:00:01\r\u001b[K     |████████████████████████████████| 215kB 5.8MB/s \n",
            "\u001b[?25hInstalling collected packages: Sastrawi\n",
            "Successfully installed Sastrawi-1.0.1\n"
          ],
          "name": "stdout"
        }
      ]
    },
    {
      "cell_type": "code",
      "metadata": {
        "colab": {
          "base_uri": "https://localhost:8080/"
        },
        "id": "pQD0ZD__r1hB",
        "outputId": "96bfe0f6-a2c1-4a3b-a09b-4a9147dc79b8"
      },
      "source": [
        "from kbbi import KBBI\n",
        "from Sastrawi.StopWordRemover.StopWordRemoverFactory import StopWordRemoverFactory\n",
        "import pandas as pd\n",
        "import re\n",
        "import nltk\n",
        "nltk.download('punkt')"
      ],
      "execution_count": 3,
      "outputs": [
        {
          "output_type": "stream",
          "text": [
            "[nltk_data] Downloading package punkt to /root/nltk_data...\n",
            "[nltk_data]   Unzipping tokenizers/punkt.zip.\n"
          ],
          "name": "stdout"
        },
        {
          "output_type": "execute_result",
          "data": {
            "text/plain": [
              "True"
            ]
          },
          "metadata": {
            "tags": []
          },
          "execution_count": 3
        }
      ]
    },
    {
      "cell_type": "code",
      "metadata": {
        "colab": {
          "base_uri": "https://localhost:8080/"
        },
        "id": "y5BeSlPhr68C",
        "outputId": "48abb783-0e8b-49e8-bbee-7b76e25905c6"
      },
      "source": [
        "print(KBBI('tinggal'))"
      ],
      "execution_count": 4,
      "outputs": [
        {
          "output_type": "stream",
          "text": [
            "ting.gal\n",
            "1. (v)  masih tetap di tempatnya dan sebagainya; masih selalu ada (sedang yang lain sudah hilang, pergi, dan sebagainya): saya disuruh -- di rumah; selamat --\n",
            "2. (v)  sisanya ialah ...; bersisa ...; tersisa ...; yang masih ada hanyalah ...: delapan dikurangi dua -- enam; uangnya -- dua puluh rupiah; tubuhnya kurus kering -- kulit pembalut tulang; ia disuruh menyelesaikan pekerjaannya yang --\n",
            "3. (v)  ada di belakang; terbelakang: pelajaran apa yang -- dari sekolah lain\n",
            "4. (v)  tidak naik kelas (tentang murid sekolah): di kelas kami yang -- dua orang\n",
            "5. (v)  sudah lewat (lalu; lampau): masa yang gilang-gemilang itu sudah --\n",
            "6. (v)  diam (di): berapa tahun Saudara -- di Medan; saya -- di kampung\n",
            "7. (v)  selalu; tetap (demikian halnya): saudara -- saudara, uang -- uang; kita tidak -- diam, tetapi terus berusaha menolongmu\n",
            "8. (v)  melupakan: jangan -- adat; tidak -- memberi nasihat\n",
            "9. (v)  tidak usah berbuat apa-apa selain dari ...: semuanya sudah beres -- berangkat saja; kita -- menentukan betul atau salah\n",
            "10. (v)  bergantung kepada; terserah kepada; terpulang kepada: baik buruknya -- pada tuan; perkara ini -- tuan berhak memutuskannya\n",
            "11. (a)  (sebagai keterangan pada kata majemuk) yang didiami: rumah --; tempat --\n",
            "12. (a)  (sebagai keterangan pada kata majemuk) yang ditinggalkan (dikosongkan dan sebagainya): ladang --; tanah --\n"
          ],
          "name": "stdout"
        }
      ]
    },
    {
      "cell_type": "code",
      "metadata": {
        "colab": {
          "base_uri": "https://localhost:8080/"
        },
        "id": "eyXC21gBsCBj",
        "outputId": "25d1bd70-c79e-4a27-87c9-d763ea1d51a9"
      },
      "source": [
        "print(KBBI('tahu'))"
      ],
      "execution_count": 5,
      "outputs": [
        {
          "output_type": "stream",
          "text": [
            "ta.hu (1)\n",
            "1. (v)  mengerti sesudah melihat (menyaksikan, mengalami, dan sebagainya): ia -- bahwa saya yang menolongnya; perkara mesin, dia lebih -- daripada saya\n",
            "2. (v)  kenal (akan); mengenal: ia tidak -- akan sanak saudaranya lagi\n",
            "3. (v)  mengindahkan; memedulikan: ia sudah tidak mau -- lagi kepada anaknya\n",
            "4. (v)  mengerti; berpengertian: siapa yang -- apa maksud tanda ini?\n",
            "5. (v)  pandai; cakap: sedikit-sedikit saya -- juga tentang mesin\n",
            "6. (v)  insaf; sadar: dia tidak -- akan kekurangannya\n",
            "7. (v) (cak)  pernah: petinju itu tidak -- menang; adikku tidak -- membolos\n",
            "\n",
            "ta.hu (2)\n",
            "(n)  makanan dari kedelai putih yang digiling halus-halus, direbus, dan dicetak\n"
          ],
          "name": "stdout"
        }
      ]
    },
    {
      "cell_type": "code",
      "metadata": {
        "colab": {
          "base_uri": "https://localhost:8080/"
        },
        "id": "5y6I-qzJsEmT",
        "outputId": "c91d3d19-7808-4f7b-d62b-721b9ceb2dad"
      },
      "source": [
        "print(KBBI('buat'))"
      ],
      "execution_count": 6,
      "outputs": [
        {
          "output_type": "stream",
          "text": [
            "bu.at (1)\n",
            "1. (v)  kerjakan; lakukan\n",
            "2. (v)  bikin\n",
            "\n",
            "bu.at (2)\n",
            "(p) (cak)  bagi; untuk: kue ini -- saya\n"
          ],
          "name": "stdout"
        }
      ]
    },
    {
      "cell_type": "code",
      "metadata": {
        "id": "yj2li-H1sVtN"
      },
      "source": [
        "tesaurus = pd.DataFrame(\n",
        "   [\n",
        "    ['tinggal', 'ting.gal (v)', 'masih tetap di tempatnya dan sebagainya; masih selalu ada (sedang yang lain sudah hilang, pergi, dan sebagainya):', 'saya disuruh -- di rumah; selamat --'],\n",
        "    ['tinggal', 'ting.gal (v) 2', 'sisanya ialah ...; bersisa ...; tersisa ...; yang masih ada hanyalah ...:', 'delapan dikurangi dua -- enam; uangnya -- dua puluh rupiah; tubuhnya kurus kering -- kulit pembalut tulang; ia disuruh menyelesaikan pekerjaannya yang --'],\n",
        "    ['tinggal', 'ting.gal (v) 3', 'ada di belakang; terbelakang:', 'pelajaran apa yang -- dari sekolah lain'],\n",
        "    ['tinggal', 'ting.gal (v) 4', 'tidak naik kelas (tentang murid sekolah):', 'di kelas kami yang -- dua orang'],\n",
        "    ['tinggal', 'ting.gal (v) 5', 'sudah lewat (lalu; lampau):', 'masa yang gilang-gemilang itu sudah --'],\n",
        "    ['tinggal', 'ting.gal (v) 6', 'diam (di):', 'berapa tahun Saudara -- di Medan; saya -- di kampung'],\n",
        "    ['tinggal', 'ting.gal (v) 7', 'selalu; tetap (demikian halnya):', 'saudara -- saudara, uang -- uang; kita tidak -- diam, tetapi terus berusaha menolongmu'],\n",
        "    ['tinggal', 'ting.gal (v) 8', 'melupakan:', 'jangan -- adat; tidak -- memberi nasihat'],\n",
        "    ['tinggal', 'ting.gal (v) 9', 'tidak usah berbuat apa-apa selain dari ...:', 'semuanya sudah beres -- berangkat saja; kita -- menentukan betul atau salah'],\n",
        "    ['tinggal', 'ting.gal (v) 1', 'bergantung kepada; terserah kepada;', 'terpulang kepada: baik buruknya -- pada tuan; perkara ini -- tuan berhak memutuskannya'],\n",
        "    ['tinggal', 'ting.gal (a)', '(sebagai keterangan pada kata majemuk) yang didiami:', 'rumah --; tempat --'],\n",
        "    ['tinggal', 'ting.gal (a) 1', '(sebagai keterangan pada kata majemuk) yang ditinggalkan (dikosongkan dan sebagainya):', 'ladang --; tanah --'],\n",
        "    ['tahu', 'ta.hu (v) 1', 'mengerti sesudah melihat (menyaksikan, mengalami, dan sebagainya):', 'ia -- bahwa saya yang menolongnya; perkara mesin, dia lebih -- daripada saya'],\n",
        "    ['tahu', 'ta.hu (v) 2', ' kenal (akan); mengenal:', 'ia tidak -- akan sanak saudaranya lagi'],\n",
        "    ['tahu', 'ta.hu (v) 3', 'mengindahkan; memedulikan:', 'ia sudah tidak mau -- lagi kepada anaknya'],\n",
        "    ['tahu', 'ta.hu (v) 4', 'mengerti; berpengertian:', 'siapa yang -- apa maksud tanda ini?'],\n",
        "    ['tahu', 'ta.hu (v) 5', 'pandai; cakap:', 'sedikit-sedikit saya -- juga tentang mesin'],\n",
        "    ['tahu', 'ta.hu (v) 6', 'insaf; sadar:', 'dia tidak -- akan kekurangannya'],\n",
        "    ['tahu', 'ta.hu (v) 7', '(cak)  pernah:', 'petinju itu tidak -- menang; adikku tidak -- membolos'],\n",
        "    ['tahu', 'ta.hu (2)', '(n)  makanan dari kedelai putih yang digiling halus-halus, direbus, dan dicetak', ''],\n",
        "    ['buat', 'bu.at (1) (v)', 'kerjakan; lakukan', ''],\n",
        "    ['buat', 'bu.at (1) (v) 2', 'bikin', ''],\n",
        "    ['buat', 'bu.at (2) (p) (cak)', 'bagi; untuk:', 'kue ini -- saya']\n",
        "   ],\n",
        "   columns=['word', 'sense', 'def', 'ex'] \n",
        ")\n",
        "\n",
        "tesaurus = tesaurus.set_index('word')"
      ],
      "execution_count": 41,
      "outputs": []
    },
    {
      "cell_type": "code",
      "metadata": {
        "id": "SL6DAL8xwITQ"
      },
      "source": [
        "tesaurus"
      ],
      "execution_count": null,
      "outputs": []
    },
    {
      "cell_type": "code",
      "metadata": {
        "colab": {
          "base_uri": "https://localhost:8080/"
        },
        "id": "6jVRKOZqwPst",
        "outputId": "a16a7f3b-b06b-4d3d-caf4-cdf4e72f0758"
      },
      "source": [
        "stopword = set(StopWordRemoverFactory().get_stop_words()) # kata-kata stopword\n",
        "print(stopword)"
      ],
      "execution_count": 10,
      "outputs": [
        {
          "output_type": "stream",
          "text": [
            "{'maka', 'belum', 'bagi', 'antara', 'supaya', 'agar', 'pasti', 'yang', 'seharusnya', 'nggak', 'dulunya', 'tolong', 'yaitu', 'sebetulnya', 'bisa', 'sebagai', 'jika', 'dimana', 'boleh', 'kecuali', 'setidaknya', 'juga', 'pada', 'dsb', 'anda', 'tentu', 'pun', 'oleh', 'itu', 'begitu', 'apakah', 'sebab', 'dia', 'ya', 'dalam', 'sedangkan', 'mereka', 'dan', 'tetapi', 'sudah', 'oh', 'melainkan', 'hal', 'dll', 'yakni', 'sebelum', 'terhadap', 'untuk', 'saja', 'mari', 'kenapa', 'setelah', 'bahwa', 'sesuatu', 'masih', 'ia', 'karena', 'saya', 'akan', 'ketika', 'kemana', 'ok', 'ada', 'dengan', 'daripada', 'mengapa', 'dua', 'setiap', 'hanya', 'saat', 'sampai', 'walau', 'tanpa', 'kita', 'dst', 'kah', 'amat', 'agak', 'sekitar', 'tidak', 'atau', 'kepada', 'bagaimanapun', 'sementara', 'demikian', 'pula', 'selain', 'menurut', 'secara', 'ingin', 'kami', 'itulah', 'anu', 'sambil', 'di', 'sesudah', 'ke', 'namun', 'lagi', 'sehingga', 'dahulu', 'tapi', 'selagi', 'lain', 'kembali', 'toh', 'dapat', 'dari', 'seolah', 'nanti', 'apalagi', 'adalah', 'seperti', 'tentang', 'para', 'demi', 'ini', 'seterusnya', 'seraya', 'harus', 'telah', 'serta', 'guna'}\n"
          ],
          "name": "stdout"
        }
      ]
    },
    {
      "cell_type": "code",
      "metadata": {
        "id": "FfOpEzDMwl1_"
      },
      "source": [
        "def overlapcontext(signature, sentence):\n",
        "    count = 0\n",
        "    signature = signature.difference(stopword)\n",
        "    sentence = sentence.difference(stopword)\n",
        "    for word in signature:\n",
        "        for word_sense in sentence:\n",
        "            if (word == word_sense):\n",
        "                count += 1\n",
        "                # print(word, word_sense)\n",
        "    return count"
      ],
      "execution_count": 12,
      "outputs": []
    },
    {
      "cell_type": "code",
      "metadata": {
        "id": "jkBXgmYQwowF"
      },
      "source": [
        "def lesk(word, sentence):\n",
        "    bestsense = None\n",
        "    maxoverlap = 0\n",
        "    context = tesaurus.loc[word, :]\n",
        "    for id, sense in context.iterrows():\n",
        "      if sense['ex'] != None:\n",
        "        sense['def'] = re.sub(r'\\W',' ',sense['def'])\n",
        "        signature = nltk.word_tokenize(sense['def']) + nltk.word_tokenize(sense['ex'])\n",
        "      else:\n",
        "        signature = nltk.word_tokenize(sense['def'])\n",
        "      overlap = overlapcontext(set(signature), set(sentence))\n",
        "      if overlap > maxoverlap:\n",
        "          maxoverlap = overlap\n",
        "          bestsense = sense['sense']\n",
        "\n",
        "    return bestsense"
      ],
      "execution_count": 54,
      "outputs": []
    },
    {
      "cell_type": "code",
      "metadata": {
        "id": "V_I-uqN_hZ_g"
      },
      "source": [
        "kata 1 : tinggal\n",
        "- sense 1 : saya tinggal di jakarta\n",
        "- sense 2 : uang saya tinggal seribu\n",
        "\n",
        "kata 2 : tahu\n",
        "- sense 1 : saya sudah tahu kabarnya\n",
        "- sense 2 : saya makan tahu sumedang\n",
        "\n",
        "kata 3 : buat\n",
        "- sense 1 : saya buat makanan sendiri\n",
        "- sense 2 : makanan ini buat saya"
      ],
      "execution_count": null,
      "outputs": []
    },
    {
      "cell_type": "code",
      "metadata": {
        "id": "9aOngFJAxopx"
      },
      "source": [
        "sent_1 = ['selamat', 'tinggal', 'di', 'jakarta']\n",
        "sent_2 = ['uang', 'saya', 'tinggal', 'seribu']\n",
        "sent_3 = ['saya', 'sudah', 'tahu', 'kabarnya']\n",
        "sent_4 = ['saya', 'makan', 'tahu', 'sumedang']\n",
        "sent_5 = ['saya', 'buat', 'makanan', 'sendiri']\n",
        "sent_6 = ['makanan', 'ini', 'buat', 'saya']"
      ],
      "execution_count": 48,
      "outputs": []
    },
    {
      "cell_type": "code",
      "metadata": {
        "id": "USkEIXWuhZAL",
        "colab": {
          "base_uri": "https://localhost:8080/"
        },
        "outputId": "281f6b8e-042a-40d5-a5f3-a0d867d9c8d5"
      },
      "source": [
        "print(lesk('tinggal', sent_1))\n",
        "print(lesk('tinggal', sent_2))\n",
        "print(lesk('tahu', sent_3))\n",
        "print(lesk('tahu', sent_4))\n",
        "print(lesk('buat', sent_5))\n",
        "print(lesk('buat', sent_6))"
      ],
      "execution_count": 55,
      "outputs": [
        {
          "output_type": "stream",
          "text": [
            "ting.gal (v)\n",
            "ting.gal (v) 7\n",
            "None\n",
            "None\n",
            "None\n",
            "None\n"
          ],
          "name": "stdout"
        }
      ]
    },
    {
      "cell_type": "code",
      "metadata": {
        "id": "wIzSKtrD05lQ"
      },
      "source": [
        ""
      ],
      "execution_count": null,
      "outputs": []
    }
  ]
}